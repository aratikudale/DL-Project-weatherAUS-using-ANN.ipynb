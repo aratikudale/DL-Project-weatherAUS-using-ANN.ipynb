{
  "nbformat": 4,
  "nbformat_minor": 0,
  "metadata": {
    "colab": {
      "provenance": []
    },
    "kernelspec": {
      "name": "python3",
      "display_name": "Python 3"
    },
    "language_info": {
      "name": "python"
    }
  },
  "cells": [
    {
      "cell_type": "code",
      "execution_count": 51,
      "metadata": {
        "id": "h5gCJ2t500b5"
      },
      "outputs": [],
      "source": []
    },
    {
      "cell_type": "markdown",
      "source": [
        "\n",
        "#Problem Statement :\n",
        "#This dataset contains about 10 years of daily weather observations from many locations across Australia.\n",
        "#RainTomorrow is the target variable to predict. It means -- did it rain the next day, Yes or No? \n",
        "#This column is Yes if the rain for that day was 1mm or more. \n",
        "#Predict next-day rain by training classification models on the target variable RainTomorrow."
      ],
      "metadata": {
        "id": "dFKIRs6NiJdc"
      }
    },
    {
      "cell_type": "code",
      "source": [
        "import numpy as np\n",
        "import pandas as pd\n",
        "import matplotlib.pyplot as plt \n",
        "import seaborn as sns\n",
        "import warnings\n",
        "warnings.filterwarnings('ignore')"
      ],
      "metadata": {
        "id": "SN8qA7HDiLn2"
      },
      "execution_count": 52,
      "outputs": []
    },
    {
      "cell_type": "code",
      "source": [
        "df=pd.read_csv(\"/content/weatherAUS.csv.zip\")\n",
        "df"
      ],
      "metadata": {
        "colab": {
          "base_uri": "https://localhost:8080/",
          "height": 661
        },
        "id": "BLgG_kVtiQwx",
        "outputId": "d39aa2b1-0acf-4132-887e-f8082c3f1712"
      },
      "execution_count": 53,
      "outputs": [
        {
          "output_type": "execute_result",
          "data": {
            "text/plain": [
              "              Date Location  MinTemp  MaxTemp  Rainfall  Evaporation  \\\n",
              "0       2008-12-01   Albury     13.4     22.9       0.6          NaN   \n",
              "1       2008-12-02   Albury      7.4     25.1       0.0          NaN   \n",
              "2       2008-12-03   Albury     12.9     25.7       0.0          NaN   \n",
              "3       2008-12-04   Albury      9.2     28.0       0.0          NaN   \n",
              "4       2008-12-05   Albury     17.5     32.3       1.0          NaN   \n",
              "...            ...      ...      ...      ...       ...          ...   \n",
              "142188  2017-06-20    Uluru      3.5     21.8       0.0          NaN   \n",
              "142189  2017-06-21    Uluru      2.8     23.4       0.0          NaN   \n",
              "142190  2017-06-22    Uluru      3.6     25.3       0.0          NaN   \n",
              "142191  2017-06-23    Uluru      5.4     26.9       0.0          NaN   \n",
              "142192  2017-06-24    Uluru      7.8     27.0       0.0          NaN   \n",
              "\n",
              "        Sunshine WindGustDir  WindGustSpeed WindDir9am  ... Humidity3pm  \\\n",
              "0            NaN           W           44.0          W  ...        22.0   \n",
              "1            NaN         WNW           44.0        NNW  ...        25.0   \n",
              "2            NaN         WSW           46.0          W  ...        30.0   \n",
              "3            NaN          NE           24.0         SE  ...        16.0   \n",
              "4            NaN           W           41.0        ENE  ...        33.0   \n",
              "...          ...         ...            ...        ...  ...         ...   \n",
              "142188       NaN           E           31.0        ESE  ...        27.0   \n",
              "142189       NaN           E           31.0         SE  ...        24.0   \n",
              "142190       NaN         NNW           22.0         SE  ...        21.0   \n",
              "142191       NaN           N           37.0         SE  ...        24.0   \n",
              "142192       NaN          SE           28.0        SSE  ...        24.0   \n",
              "\n",
              "        Pressure9am  Pressure3pm  Cloud9am  Cloud3pm  Temp9am  Temp3pm  \\\n",
              "0            1007.7       1007.1       8.0       NaN     16.9     21.8   \n",
              "1            1010.6       1007.8       NaN       NaN     17.2     24.3   \n",
              "2            1007.6       1008.7       NaN       2.0     21.0     23.2   \n",
              "3            1017.6       1012.8       NaN       NaN     18.1     26.5   \n",
              "4            1010.8       1006.0       7.0       8.0     17.8     29.7   \n",
              "...             ...          ...       ...       ...      ...      ...   \n",
              "142188       1024.7       1021.2       NaN       NaN      9.4     20.9   \n",
              "142189       1024.6       1020.3       NaN       NaN     10.1     22.4   \n",
              "142190       1023.5       1019.1       NaN       NaN     10.9     24.5   \n",
              "142191       1021.0       1016.8       NaN       NaN     12.5     26.1   \n",
              "142192       1019.4       1016.5       3.0       2.0     15.1     26.0   \n",
              "\n",
              "        RainToday  RISK_MM  RainTomorrow  \n",
              "0              No      0.0            No  \n",
              "1              No      0.0            No  \n",
              "2              No      0.0            No  \n",
              "3              No      1.0            No  \n",
              "4              No      0.2            No  \n",
              "...           ...      ...           ...  \n",
              "142188         No      0.0            No  \n",
              "142189         No      0.0            No  \n",
              "142190         No      0.0            No  \n",
              "142191         No      0.0            No  \n",
              "142192         No      0.0            No  \n",
              "\n",
              "[142193 rows x 24 columns]"
            ],
            "text/html": [
              "\n",
              "  <div id=\"df-6ac343ae-9e13-4b71-adf3-d74289450e67\">\n",
              "    <div class=\"colab-df-container\">\n",
              "      <div>\n",
              "<style scoped>\n",
              "    .dataframe tbody tr th:only-of-type {\n",
              "        vertical-align: middle;\n",
              "    }\n",
              "\n",
              "    .dataframe tbody tr th {\n",
              "        vertical-align: top;\n",
              "    }\n",
              "\n",
              "    .dataframe thead th {\n",
              "        text-align: right;\n",
              "    }\n",
              "</style>\n",
              "<table border=\"1\" class=\"dataframe\">\n",
              "  <thead>\n",
              "    <tr style=\"text-align: right;\">\n",
              "      <th></th>\n",
              "      <th>Date</th>\n",
              "      <th>Location</th>\n",
              "      <th>MinTemp</th>\n",
              "      <th>MaxTemp</th>\n",
              "      <th>Rainfall</th>\n",
              "      <th>Evaporation</th>\n",
              "      <th>Sunshine</th>\n",
              "      <th>WindGustDir</th>\n",
              "      <th>WindGustSpeed</th>\n",
              "      <th>WindDir9am</th>\n",
              "      <th>...</th>\n",
              "      <th>Humidity3pm</th>\n",
              "      <th>Pressure9am</th>\n",
              "      <th>Pressure3pm</th>\n",
              "      <th>Cloud9am</th>\n",
              "      <th>Cloud3pm</th>\n",
              "      <th>Temp9am</th>\n",
              "      <th>Temp3pm</th>\n",
              "      <th>RainToday</th>\n",
              "      <th>RISK_MM</th>\n",
              "      <th>RainTomorrow</th>\n",
              "    </tr>\n",
              "  </thead>\n",
              "  <tbody>\n",
              "    <tr>\n",
              "      <th>0</th>\n",
              "      <td>2008-12-01</td>\n",
              "      <td>Albury</td>\n",
              "      <td>13.4</td>\n",
              "      <td>22.9</td>\n",
              "      <td>0.6</td>\n",
              "      <td>NaN</td>\n",
              "      <td>NaN</td>\n",
              "      <td>W</td>\n",
              "      <td>44.0</td>\n",
              "      <td>W</td>\n",
              "      <td>...</td>\n",
              "      <td>22.0</td>\n",
              "      <td>1007.7</td>\n",
              "      <td>1007.1</td>\n",
              "      <td>8.0</td>\n",
              "      <td>NaN</td>\n",
              "      <td>16.9</td>\n",
              "      <td>21.8</td>\n",
              "      <td>No</td>\n",
              "      <td>0.0</td>\n",
              "      <td>No</td>\n",
              "    </tr>\n",
              "    <tr>\n",
              "      <th>1</th>\n",
              "      <td>2008-12-02</td>\n",
              "      <td>Albury</td>\n",
              "      <td>7.4</td>\n",
              "      <td>25.1</td>\n",
              "      <td>0.0</td>\n",
              "      <td>NaN</td>\n",
              "      <td>NaN</td>\n",
              "      <td>WNW</td>\n",
              "      <td>44.0</td>\n",
              "      <td>NNW</td>\n",
              "      <td>...</td>\n",
              "      <td>25.0</td>\n",
              "      <td>1010.6</td>\n",
              "      <td>1007.8</td>\n",
              "      <td>NaN</td>\n",
              "      <td>NaN</td>\n",
              "      <td>17.2</td>\n",
              "      <td>24.3</td>\n",
              "      <td>No</td>\n",
              "      <td>0.0</td>\n",
              "      <td>No</td>\n",
              "    </tr>\n",
              "    <tr>\n",
              "      <th>2</th>\n",
              "      <td>2008-12-03</td>\n",
              "      <td>Albury</td>\n",
              "      <td>12.9</td>\n",
              "      <td>25.7</td>\n",
              "      <td>0.0</td>\n",
              "      <td>NaN</td>\n",
              "      <td>NaN</td>\n",
              "      <td>WSW</td>\n",
              "      <td>46.0</td>\n",
              "      <td>W</td>\n",
              "      <td>...</td>\n",
              "      <td>30.0</td>\n",
              "      <td>1007.6</td>\n",
              "      <td>1008.7</td>\n",
              "      <td>NaN</td>\n",
              "      <td>2.0</td>\n",
              "      <td>21.0</td>\n",
              "      <td>23.2</td>\n",
              "      <td>No</td>\n",
              "      <td>0.0</td>\n",
              "      <td>No</td>\n",
              "    </tr>\n",
              "    <tr>\n",
              "      <th>3</th>\n",
              "      <td>2008-12-04</td>\n",
              "      <td>Albury</td>\n",
              "      <td>9.2</td>\n",
              "      <td>28.0</td>\n",
              "      <td>0.0</td>\n",
              "      <td>NaN</td>\n",
              "      <td>NaN</td>\n",
              "      <td>NE</td>\n",
              "      <td>24.0</td>\n",
              "      <td>SE</td>\n",
              "      <td>...</td>\n",
              "      <td>16.0</td>\n",
              "      <td>1017.6</td>\n",
              "      <td>1012.8</td>\n",
              "      <td>NaN</td>\n",
              "      <td>NaN</td>\n",
              "      <td>18.1</td>\n",
              "      <td>26.5</td>\n",
              "      <td>No</td>\n",
              "      <td>1.0</td>\n",
              "      <td>No</td>\n",
              "    </tr>\n",
              "    <tr>\n",
              "      <th>4</th>\n",
              "      <td>2008-12-05</td>\n",
              "      <td>Albury</td>\n",
              "      <td>17.5</td>\n",
              "      <td>32.3</td>\n",
              "      <td>1.0</td>\n",
              "      <td>NaN</td>\n",
              "      <td>NaN</td>\n",
              "      <td>W</td>\n",
              "      <td>41.0</td>\n",
              "      <td>ENE</td>\n",
              "      <td>...</td>\n",
              "      <td>33.0</td>\n",
              "      <td>1010.8</td>\n",
              "      <td>1006.0</td>\n",
              "      <td>7.0</td>\n",
              "      <td>8.0</td>\n",
              "      <td>17.8</td>\n",
              "      <td>29.7</td>\n",
              "      <td>No</td>\n",
              "      <td>0.2</td>\n",
              "      <td>No</td>\n",
              "    </tr>\n",
              "    <tr>\n",
              "      <th>...</th>\n",
              "      <td>...</td>\n",
              "      <td>...</td>\n",
              "      <td>...</td>\n",
              "      <td>...</td>\n",
              "      <td>...</td>\n",
              "      <td>...</td>\n",
              "      <td>...</td>\n",
              "      <td>...</td>\n",
              "      <td>...</td>\n",
              "      <td>...</td>\n",
              "      <td>...</td>\n",
              "      <td>...</td>\n",
              "      <td>...</td>\n",
              "      <td>...</td>\n",
              "      <td>...</td>\n",
              "      <td>...</td>\n",
              "      <td>...</td>\n",
              "      <td>...</td>\n",
              "      <td>...</td>\n",
              "      <td>...</td>\n",
              "      <td>...</td>\n",
              "    </tr>\n",
              "    <tr>\n",
              "      <th>142188</th>\n",
              "      <td>2017-06-20</td>\n",
              "      <td>Uluru</td>\n",
              "      <td>3.5</td>\n",
              "      <td>21.8</td>\n",
              "      <td>0.0</td>\n",
              "      <td>NaN</td>\n",
              "      <td>NaN</td>\n",
              "      <td>E</td>\n",
              "      <td>31.0</td>\n",
              "      <td>ESE</td>\n",
              "      <td>...</td>\n",
              "      <td>27.0</td>\n",
              "      <td>1024.7</td>\n",
              "      <td>1021.2</td>\n",
              "      <td>NaN</td>\n",
              "      <td>NaN</td>\n",
              "      <td>9.4</td>\n",
              "      <td>20.9</td>\n",
              "      <td>No</td>\n",
              "      <td>0.0</td>\n",
              "      <td>No</td>\n",
              "    </tr>\n",
              "    <tr>\n",
              "      <th>142189</th>\n",
              "      <td>2017-06-21</td>\n",
              "      <td>Uluru</td>\n",
              "      <td>2.8</td>\n",
              "      <td>23.4</td>\n",
              "      <td>0.0</td>\n",
              "      <td>NaN</td>\n",
              "      <td>NaN</td>\n",
              "      <td>E</td>\n",
              "      <td>31.0</td>\n",
              "      <td>SE</td>\n",
              "      <td>...</td>\n",
              "      <td>24.0</td>\n",
              "      <td>1024.6</td>\n",
              "      <td>1020.3</td>\n",
              "      <td>NaN</td>\n",
              "      <td>NaN</td>\n",
              "      <td>10.1</td>\n",
              "      <td>22.4</td>\n",
              "      <td>No</td>\n",
              "      <td>0.0</td>\n",
              "      <td>No</td>\n",
              "    </tr>\n",
              "    <tr>\n",
              "      <th>142190</th>\n",
              "      <td>2017-06-22</td>\n",
              "      <td>Uluru</td>\n",
              "      <td>3.6</td>\n",
              "      <td>25.3</td>\n",
              "      <td>0.0</td>\n",
              "      <td>NaN</td>\n",
              "      <td>NaN</td>\n",
              "      <td>NNW</td>\n",
              "      <td>22.0</td>\n",
              "      <td>SE</td>\n",
              "      <td>...</td>\n",
              "      <td>21.0</td>\n",
              "      <td>1023.5</td>\n",
              "      <td>1019.1</td>\n",
              "      <td>NaN</td>\n",
              "      <td>NaN</td>\n",
              "      <td>10.9</td>\n",
              "      <td>24.5</td>\n",
              "      <td>No</td>\n",
              "      <td>0.0</td>\n",
              "      <td>No</td>\n",
              "    </tr>\n",
              "    <tr>\n",
              "      <th>142191</th>\n",
              "      <td>2017-06-23</td>\n",
              "      <td>Uluru</td>\n",
              "      <td>5.4</td>\n",
              "      <td>26.9</td>\n",
              "      <td>0.0</td>\n",
              "      <td>NaN</td>\n",
              "      <td>NaN</td>\n",
              "      <td>N</td>\n",
              "      <td>37.0</td>\n",
              "      <td>SE</td>\n",
              "      <td>...</td>\n",
              "      <td>24.0</td>\n",
              "      <td>1021.0</td>\n",
              "      <td>1016.8</td>\n",
              "      <td>NaN</td>\n",
              "      <td>NaN</td>\n",
              "      <td>12.5</td>\n",
              "      <td>26.1</td>\n",
              "      <td>No</td>\n",
              "      <td>0.0</td>\n",
              "      <td>No</td>\n",
              "    </tr>\n",
              "    <tr>\n",
              "      <th>142192</th>\n",
              "      <td>2017-06-24</td>\n",
              "      <td>Uluru</td>\n",
              "      <td>7.8</td>\n",
              "      <td>27.0</td>\n",
              "      <td>0.0</td>\n",
              "      <td>NaN</td>\n",
              "      <td>NaN</td>\n",
              "      <td>SE</td>\n",
              "      <td>28.0</td>\n",
              "      <td>SSE</td>\n",
              "      <td>...</td>\n",
              "      <td>24.0</td>\n",
              "      <td>1019.4</td>\n",
              "      <td>1016.5</td>\n",
              "      <td>3.0</td>\n",
              "      <td>2.0</td>\n",
              "      <td>15.1</td>\n",
              "      <td>26.0</td>\n",
              "      <td>No</td>\n",
              "      <td>0.0</td>\n",
              "      <td>No</td>\n",
              "    </tr>\n",
              "  </tbody>\n",
              "</table>\n",
              "<p>142193 rows × 24 columns</p>\n",
              "</div>\n",
              "      <button class=\"colab-df-convert\" onclick=\"convertToInteractive('df-6ac343ae-9e13-4b71-adf3-d74289450e67')\"\n",
              "              title=\"Convert this dataframe to an interactive table.\"\n",
              "              style=\"display:none;\">\n",
              "        \n",
              "  <svg xmlns=\"http://www.w3.org/2000/svg\" height=\"24px\"viewBox=\"0 0 24 24\"\n",
              "       width=\"24px\">\n",
              "    <path d=\"M0 0h24v24H0V0z\" fill=\"none\"/>\n",
              "    <path d=\"M18.56 5.44l.94 2.06.94-2.06 2.06-.94-2.06-.94-.94-2.06-.94 2.06-2.06.94zm-11 1L8.5 8.5l.94-2.06 2.06-.94-2.06-.94L8.5 2.5l-.94 2.06-2.06.94zm10 10l.94 2.06.94-2.06 2.06-.94-2.06-.94-.94-2.06-.94 2.06-2.06.94z\"/><path d=\"M17.41 7.96l-1.37-1.37c-.4-.4-.92-.59-1.43-.59-.52 0-1.04.2-1.43.59L10.3 9.45l-7.72 7.72c-.78.78-.78 2.05 0 2.83L4 21.41c.39.39.9.59 1.41.59.51 0 1.02-.2 1.41-.59l7.78-7.78 2.81-2.81c.8-.78.8-2.07 0-2.86zM5.41 20L4 18.59l7.72-7.72 1.47 1.35L5.41 20z\"/>\n",
              "  </svg>\n",
              "      </button>\n",
              "      \n",
              "  <style>\n",
              "    .colab-df-container {\n",
              "      display:flex;\n",
              "      flex-wrap:wrap;\n",
              "      gap: 12px;\n",
              "    }\n",
              "\n",
              "    .colab-df-convert {\n",
              "      background-color: #E8F0FE;\n",
              "      border: none;\n",
              "      border-radius: 50%;\n",
              "      cursor: pointer;\n",
              "      display: none;\n",
              "      fill: #1967D2;\n",
              "      height: 32px;\n",
              "      padding: 0 0 0 0;\n",
              "      width: 32px;\n",
              "    }\n",
              "\n",
              "    .colab-df-convert:hover {\n",
              "      background-color: #E2EBFA;\n",
              "      box-shadow: 0px 1px 2px rgba(60, 64, 67, 0.3), 0px 1px 3px 1px rgba(60, 64, 67, 0.15);\n",
              "      fill: #174EA6;\n",
              "    }\n",
              "\n",
              "    [theme=dark] .colab-df-convert {\n",
              "      background-color: #3B4455;\n",
              "      fill: #D2E3FC;\n",
              "    }\n",
              "\n",
              "    [theme=dark] .colab-df-convert:hover {\n",
              "      background-color: #434B5C;\n",
              "      box-shadow: 0px 1px 3px 1px rgba(0, 0, 0, 0.15);\n",
              "      filter: drop-shadow(0px 1px 2px rgba(0, 0, 0, 0.3));\n",
              "      fill: #FFFFFF;\n",
              "    }\n",
              "  </style>\n",
              "\n",
              "      <script>\n",
              "        const buttonEl =\n",
              "          document.querySelector('#df-6ac343ae-9e13-4b71-adf3-d74289450e67 button.colab-df-convert');\n",
              "        buttonEl.style.display =\n",
              "          google.colab.kernel.accessAllowed ? 'block' : 'none';\n",
              "\n",
              "        async function convertToInteractive(key) {\n",
              "          const element = document.querySelector('#df-6ac343ae-9e13-4b71-adf3-d74289450e67');\n",
              "          const dataTable =\n",
              "            await google.colab.kernel.invokeFunction('convertToInteractive',\n",
              "                                                     [key], {});\n",
              "          if (!dataTable) return;\n",
              "\n",
              "          const docLinkHtml = 'Like what you see? Visit the ' +\n",
              "            '<a target=\"_blank\" href=https://colab.research.google.com/notebooks/data_table.ipynb>data table notebook</a>'\n",
              "            + ' to learn more about interactive tables.';\n",
              "          element.innerHTML = '';\n",
              "          dataTable['output_type'] = 'display_data';\n",
              "          await google.colab.output.renderOutput(dataTable, element);\n",
              "          const docLink = document.createElement('div');\n",
              "          docLink.innerHTML = docLinkHtml;\n",
              "          element.appendChild(docLink);\n",
              "        }\n",
              "      </script>\n",
              "    </div>\n",
              "  </div>\n",
              "  "
            ]
          },
          "metadata": {},
          "execution_count": 53
        }
      ]
    },
    {
      "cell_type": "code",
      "source": [
        "df.head()  #to show top 5"
      ],
      "metadata": {
        "colab": {
          "base_uri": "https://localhost:8080/",
          "height": 386
        },
        "id": "cmvITDzajsL5",
        "outputId": "64563028-2d84-4cd3-b385-2b3088dd25b3"
      },
      "execution_count": 54,
      "outputs": [
        {
          "output_type": "execute_result",
          "data": {
            "text/plain": [
              "         Date Location  MinTemp  MaxTemp  Rainfall  Evaporation  Sunshine  \\\n",
              "0  2008-12-01   Albury     13.4     22.9       0.6          NaN       NaN   \n",
              "1  2008-12-02   Albury      7.4     25.1       0.0          NaN       NaN   \n",
              "2  2008-12-03   Albury     12.9     25.7       0.0          NaN       NaN   \n",
              "3  2008-12-04   Albury      9.2     28.0       0.0          NaN       NaN   \n",
              "4  2008-12-05   Albury     17.5     32.3       1.0          NaN       NaN   \n",
              "\n",
              "  WindGustDir  WindGustSpeed WindDir9am  ... Humidity3pm  Pressure9am  \\\n",
              "0           W           44.0          W  ...        22.0       1007.7   \n",
              "1         WNW           44.0        NNW  ...        25.0       1010.6   \n",
              "2         WSW           46.0          W  ...        30.0       1007.6   \n",
              "3          NE           24.0         SE  ...        16.0       1017.6   \n",
              "4           W           41.0        ENE  ...        33.0       1010.8   \n",
              "\n",
              "   Pressure3pm  Cloud9am  Cloud3pm  Temp9am  Temp3pm  RainToday  RISK_MM  \\\n",
              "0       1007.1       8.0       NaN     16.9     21.8         No      0.0   \n",
              "1       1007.8       NaN       NaN     17.2     24.3         No      0.0   \n",
              "2       1008.7       NaN       2.0     21.0     23.2         No      0.0   \n",
              "3       1012.8       NaN       NaN     18.1     26.5         No      1.0   \n",
              "4       1006.0       7.0       8.0     17.8     29.7         No      0.2   \n",
              "\n",
              "   RainTomorrow  \n",
              "0            No  \n",
              "1            No  \n",
              "2            No  \n",
              "3            No  \n",
              "4            No  \n",
              "\n",
              "[5 rows x 24 columns]"
            ],
            "text/html": [
              "\n",
              "  <div id=\"df-74585ae5-a448-4b57-9376-9b09dc173a56\">\n",
              "    <div class=\"colab-df-container\">\n",
              "      <div>\n",
              "<style scoped>\n",
              "    .dataframe tbody tr th:only-of-type {\n",
              "        vertical-align: middle;\n",
              "    }\n",
              "\n",
              "    .dataframe tbody tr th {\n",
              "        vertical-align: top;\n",
              "    }\n",
              "\n",
              "    .dataframe thead th {\n",
              "        text-align: right;\n",
              "    }\n",
              "</style>\n",
              "<table border=\"1\" class=\"dataframe\">\n",
              "  <thead>\n",
              "    <tr style=\"text-align: right;\">\n",
              "      <th></th>\n",
              "      <th>Date</th>\n",
              "      <th>Location</th>\n",
              "      <th>MinTemp</th>\n",
              "      <th>MaxTemp</th>\n",
              "      <th>Rainfall</th>\n",
              "      <th>Evaporation</th>\n",
              "      <th>Sunshine</th>\n",
              "      <th>WindGustDir</th>\n",
              "      <th>WindGustSpeed</th>\n",
              "      <th>WindDir9am</th>\n",
              "      <th>...</th>\n",
              "      <th>Humidity3pm</th>\n",
              "      <th>Pressure9am</th>\n",
              "      <th>Pressure3pm</th>\n",
              "      <th>Cloud9am</th>\n",
              "      <th>Cloud3pm</th>\n",
              "      <th>Temp9am</th>\n",
              "      <th>Temp3pm</th>\n",
              "      <th>RainToday</th>\n",
              "      <th>RISK_MM</th>\n",
              "      <th>RainTomorrow</th>\n",
              "    </tr>\n",
              "  </thead>\n",
              "  <tbody>\n",
              "    <tr>\n",
              "      <th>0</th>\n",
              "      <td>2008-12-01</td>\n",
              "      <td>Albury</td>\n",
              "      <td>13.4</td>\n",
              "      <td>22.9</td>\n",
              "      <td>0.6</td>\n",
              "      <td>NaN</td>\n",
              "      <td>NaN</td>\n",
              "      <td>W</td>\n",
              "      <td>44.0</td>\n",
              "      <td>W</td>\n",
              "      <td>...</td>\n",
              "      <td>22.0</td>\n",
              "      <td>1007.7</td>\n",
              "      <td>1007.1</td>\n",
              "      <td>8.0</td>\n",
              "      <td>NaN</td>\n",
              "      <td>16.9</td>\n",
              "      <td>21.8</td>\n",
              "      <td>No</td>\n",
              "      <td>0.0</td>\n",
              "      <td>No</td>\n",
              "    </tr>\n",
              "    <tr>\n",
              "      <th>1</th>\n",
              "      <td>2008-12-02</td>\n",
              "      <td>Albury</td>\n",
              "      <td>7.4</td>\n",
              "      <td>25.1</td>\n",
              "      <td>0.0</td>\n",
              "      <td>NaN</td>\n",
              "      <td>NaN</td>\n",
              "      <td>WNW</td>\n",
              "      <td>44.0</td>\n",
              "      <td>NNW</td>\n",
              "      <td>...</td>\n",
              "      <td>25.0</td>\n",
              "      <td>1010.6</td>\n",
              "      <td>1007.8</td>\n",
              "      <td>NaN</td>\n",
              "      <td>NaN</td>\n",
              "      <td>17.2</td>\n",
              "      <td>24.3</td>\n",
              "      <td>No</td>\n",
              "      <td>0.0</td>\n",
              "      <td>No</td>\n",
              "    </tr>\n",
              "    <tr>\n",
              "      <th>2</th>\n",
              "      <td>2008-12-03</td>\n",
              "      <td>Albury</td>\n",
              "      <td>12.9</td>\n",
              "      <td>25.7</td>\n",
              "      <td>0.0</td>\n",
              "      <td>NaN</td>\n",
              "      <td>NaN</td>\n",
              "      <td>WSW</td>\n",
              "      <td>46.0</td>\n",
              "      <td>W</td>\n",
              "      <td>...</td>\n",
              "      <td>30.0</td>\n",
              "      <td>1007.6</td>\n",
              "      <td>1008.7</td>\n",
              "      <td>NaN</td>\n",
              "      <td>2.0</td>\n",
              "      <td>21.0</td>\n",
              "      <td>23.2</td>\n",
              "      <td>No</td>\n",
              "      <td>0.0</td>\n",
              "      <td>No</td>\n",
              "    </tr>\n",
              "    <tr>\n",
              "      <th>3</th>\n",
              "      <td>2008-12-04</td>\n",
              "      <td>Albury</td>\n",
              "      <td>9.2</td>\n",
              "      <td>28.0</td>\n",
              "      <td>0.0</td>\n",
              "      <td>NaN</td>\n",
              "      <td>NaN</td>\n",
              "      <td>NE</td>\n",
              "      <td>24.0</td>\n",
              "      <td>SE</td>\n",
              "      <td>...</td>\n",
              "      <td>16.0</td>\n",
              "      <td>1017.6</td>\n",
              "      <td>1012.8</td>\n",
              "      <td>NaN</td>\n",
              "      <td>NaN</td>\n",
              "      <td>18.1</td>\n",
              "      <td>26.5</td>\n",
              "      <td>No</td>\n",
              "      <td>1.0</td>\n",
              "      <td>No</td>\n",
              "    </tr>\n",
              "    <tr>\n",
              "      <th>4</th>\n",
              "      <td>2008-12-05</td>\n",
              "      <td>Albury</td>\n",
              "      <td>17.5</td>\n",
              "      <td>32.3</td>\n",
              "      <td>1.0</td>\n",
              "      <td>NaN</td>\n",
              "      <td>NaN</td>\n",
              "      <td>W</td>\n",
              "      <td>41.0</td>\n",
              "      <td>ENE</td>\n",
              "      <td>...</td>\n",
              "      <td>33.0</td>\n",
              "      <td>1010.8</td>\n",
              "      <td>1006.0</td>\n",
              "      <td>7.0</td>\n",
              "      <td>8.0</td>\n",
              "      <td>17.8</td>\n",
              "      <td>29.7</td>\n",
              "      <td>No</td>\n",
              "      <td>0.2</td>\n",
              "      <td>No</td>\n",
              "    </tr>\n",
              "  </tbody>\n",
              "</table>\n",
              "<p>5 rows × 24 columns</p>\n",
              "</div>\n",
              "      <button class=\"colab-df-convert\" onclick=\"convertToInteractive('df-74585ae5-a448-4b57-9376-9b09dc173a56')\"\n",
              "              title=\"Convert this dataframe to an interactive table.\"\n",
              "              style=\"display:none;\">\n",
              "        \n",
              "  <svg xmlns=\"http://www.w3.org/2000/svg\" height=\"24px\"viewBox=\"0 0 24 24\"\n",
              "       width=\"24px\">\n",
              "    <path d=\"M0 0h24v24H0V0z\" fill=\"none\"/>\n",
              "    <path d=\"M18.56 5.44l.94 2.06.94-2.06 2.06-.94-2.06-.94-.94-2.06-.94 2.06-2.06.94zm-11 1L8.5 8.5l.94-2.06 2.06-.94-2.06-.94L8.5 2.5l-.94 2.06-2.06.94zm10 10l.94 2.06.94-2.06 2.06-.94-2.06-.94-.94-2.06-.94 2.06-2.06.94z\"/><path d=\"M17.41 7.96l-1.37-1.37c-.4-.4-.92-.59-1.43-.59-.52 0-1.04.2-1.43.59L10.3 9.45l-7.72 7.72c-.78.78-.78 2.05 0 2.83L4 21.41c.39.39.9.59 1.41.59.51 0 1.02-.2 1.41-.59l7.78-7.78 2.81-2.81c.8-.78.8-2.07 0-2.86zM5.41 20L4 18.59l7.72-7.72 1.47 1.35L5.41 20z\"/>\n",
              "  </svg>\n",
              "      </button>\n",
              "      \n",
              "  <style>\n",
              "    .colab-df-container {\n",
              "      display:flex;\n",
              "      flex-wrap:wrap;\n",
              "      gap: 12px;\n",
              "    }\n",
              "\n",
              "    .colab-df-convert {\n",
              "      background-color: #E8F0FE;\n",
              "      border: none;\n",
              "      border-radius: 50%;\n",
              "      cursor: pointer;\n",
              "      display: none;\n",
              "      fill: #1967D2;\n",
              "      height: 32px;\n",
              "      padding: 0 0 0 0;\n",
              "      width: 32px;\n",
              "    }\n",
              "\n",
              "    .colab-df-convert:hover {\n",
              "      background-color: #E2EBFA;\n",
              "      box-shadow: 0px 1px 2px rgba(60, 64, 67, 0.3), 0px 1px 3px 1px rgba(60, 64, 67, 0.15);\n",
              "      fill: #174EA6;\n",
              "    }\n",
              "\n",
              "    [theme=dark] .colab-df-convert {\n",
              "      background-color: #3B4455;\n",
              "      fill: #D2E3FC;\n",
              "    }\n",
              "\n",
              "    [theme=dark] .colab-df-convert:hover {\n",
              "      background-color: #434B5C;\n",
              "      box-shadow: 0px 1px 3px 1px rgba(0, 0, 0, 0.15);\n",
              "      filter: drop-shadow(0px 1px 2px rgba(0, 0, 0, 0.3));\n",
              "      fill: #FFFFFF;\n",
              "    }\n",
              "  </style>\n",
              "\n",
              "      <script>\n",
              "        const buttonEl =\n",
              "          document.querySelector('#df-74585ae5-a448-4b57-9376-9b09dc173a56 button.colab-df-convert');\n",
              "        buttonEl.style.display =\n",
              "          google.colab.kernel.accessAllowed ? 'block' : 'none';\n",
              "\n",
              "        async function convertToInteractive(key) {\n",
              "          const element = document.querySelector('#df-74585ae5-a448-4b57-9376-9b09dc173a56');\n",
              "          const dataTable =\n",
              "            await google.colab.kernel.invokeFunction('convertToInteractive',\n",
              "                                                     [key], {});\n",
              "          if (!dataTable) return;\n",
              "\n",
              "          const docLinkHtml = 'Like what you see? Visit the ' +\n",
              "            '<a target=\"_blank\" href=https://colab.research.google.com/notebooks/data_table.ipynb>data table notebook</a>'\n",
              "            + ' to learn more about interactive tables.';\n",
              "          element.innerHTML = '';\n",
              "          dataTable['output_type'] = 'display_data';\n",
              "          await google.colab.output.renderOutput(dataTable, element);\n",
              "          const docLink = document.createElement('div');\n",
              "          docLink.innerHTML = docLinkHtml;\n",
              "          element.appendChild(docLink);\n",
              "        }\n",
              "      </script>\n",
              "    </div>\n",
              "  </div>\n",
              "  "
            ]
          },
          "metadata": {},
          "execution_count": 54
        }
      ]
    },
    {
      "cell_type": "code",
      "source": [
        "df.shape   #how many rows and columns"
      ],
      "metadata": {
        "colab": {
          "base_uri": "https://localhost:8080/",
          "height": 0
        },
        "id": "8MfBUxfwkAlc",
        "outputId": "1d063e36-7d7b-483c-8756-ee14ff30ec88"
      },
      "execution_count": 55,
      "outputs": [
        {
          "output_type": "execute_result",
          "data": {
            "text/plain": [
              "(142193, 24)"
            ]
          },
          "metadata": {},
          "execution_count": 55
        }
      ]
    },
    {
      "cell_type": "code",
      "source": [
        "#to chcke null values\n",
        "df.isnull().sum()"
      ],
      "metadata": {
        "colab": {
          "base_uri": "https://localhost:8080/",
          "height": 0
        },
        "id": "Ka7_uFydkEvL",
        "outputId": "c0cf6aef-5e5a-42bd-e6d9-5e6ff84610c0"
      },
      "execution_count": 56,
      "outputs": [
        {
          "output_type": "execute_result",
          "data": {
            "text/plain": [
              "Date                 0\n",
              "Location             0\n",
              "MinTemp            637\n",
              "MaxTemp            322\n",
              "Rainfall          1406\n",
              "Evaporation      60843\n",
              "Sunshine         67816\n",
              "WindGustDir       9330\n",
              "WindGustSpeed     9270\n",
              "WindDir9am       10013\n",
              "WindDir3pm        3778\n",
              "WindSpeed9am      1348\n",
              "WindSpeed3pm      2630\n",
              "Humidity9am       1774\n",
              "Humidity3pm       3610\n",
              "Pressure9am      14014\n",
              "Pressure3pm      13981\n",
              "Cloud9am         53657\n",
              "Cloud3pm         57094\n",
              "Temp9am            904\n",
              "Temp3pm           2726\n",
              "RainToday         1406\n",
              "RISK_MM              0\n",
              "RainTomorrow         0\n",
              "dtype: int64"
            ]
          },
          "metadata": {},
          "execution_count": 56
        }
      ]
    },
    {
      "cell_type": "code",
      "source": [
        "sns.heatmap(df.isnull())\n",
        "plt.show()\n",
        "     "
      ],
      "metadata": {
        "colab": {
          "base_uri": "https://localhost:8080/",
          "height": 533
        },
        "id": "vug9r9IlkJrK",
        "outputId": "b17f4894-4744-4140-d134-1185b7a0babf"
      },
      "execution_count": 57,
      "outputs": [
        {
          "output_type": "display_data",
          "data": {
            "text/plain": [
              "<Figure size 640x480 with 2 Axes>"
            ],
            "image/png": "[encoded data removed]"
          },
          "metadata": {}
        }
      ]
    },
    {
      "cell_type": "code",
      "source": [
        "#now to chcek the data types\n",
        "df.dtypes"
      ],
      "metadata": {
        "colab": {
          "base_uri": "https://localhost:8080/",
          "height": 0
        },
        "id": "TYCa_EjjkQKN",
        "outputId": "429cad6e-50df-4b9f-cb03-284d6c3ac3e9"
      },
      "execution_count": 58,
      "outputs": [
        {
          "output_type": "execute_result",
          "data": {
            "text/plain": [
              "Date              object\n",
              "Location          object\n",
              "MinTemp          float64\n",
              "MaxTemp          float64\n",
              "Rainfall         float64\n",
              "Evaporation      float64\n",
              "Sunshine         float64\n",
              "WindGustDir       object\n",
              "WindGustSpeed    float64\n",
              "WindDir9am        object\n",
              "WindDir3pm        object\n",
              "WindSpeed9am     float64\n",
              "WindSpeed3pm     float64\n",
              "Humidity9am      float64\n",
              "Humidity3pm      float64\n",
              "Pressure9am      float64\n",
              "Pressure3pm      float64\n",
              "Cloud9am         float64\n",
              "Cloud3pm         float64\n",
              "Temp9am          float64\n",
              "Temp3pm          float64\n",
              "RainToday         object\n",
              "RISK_MM          float64\n",
              "RainTomorrow      object\n",
              "dtype: object"
            ]
          },
          "metadata": {},
          "execution_count": 58
        }
      ]
    },
    {
      "cell_type": "code",
      "source": [
        "#first swork on categorical means object type of columns\n",
        "s=(df.dtypes=='object')  #give data types\n",
        "df_cat=list(s[s].index)   #to convert in list\n",
        "print(\"categrical columns\")\n",
        "print(df_cat)\n",
        "     "
      ],
      "metadata": {
        "colab": {
          "base_uri": "https://localhost:8080/",
          "height": 0
        },
        "id": "xNdc2iGbkUWs",
        "outputId": "56dbcc81-28a1-44a4-de37-a837d8d8c31d"
      },
      "execution_count": 59,
      "outputs": [
        {
          "output_type": "stream",
          "name": "stdout",
          "text": [
            "categrical columns\n",
            "['Date', 'Location', 'WindGustDir', 'WindDir9am', 'WindDir3pm', 'RainToday', 'RainTomorrow']\n"
          ]
        }
      ]
    },
    {
      "cell_type": "code",
      "source": [
        "#now we check the null values in categorical columns\n",
        "for i in df_cat:\n",
        "  print(i,df[i].isnull().sum())  #because it is list we cannot write df_cat.isnull().sum() we need to use loop"
      ],
      "metadata": {
        "colab": {
          "base_uri": "https://localhost:8080/",
          "height": 0
        },
        "id": "1VXsSnpNkcdY",
        "outputId": "65a8330d-dc42-4950-8428-469c2b03bcc6"
      },
      "execution_count": 60,
      "outputs": [
        {
          "output_type": "stream",
          "name": "stdout",
          "text": [
            "Date 0\n",
            "Location 0\n",
            "WindGustDir 9330\n",
            "WindDir9am 10013\n",
            "WindDir3pm 3778\n",
            "RainToday 1406\n",
            "RainTomorrow 0\n"
          ]
        }
      ]
    },
    {
      "cell_type": "code",
      "source": [
        "#now we will fill this null values with mode because object null values are fullfill with mode\n",
        "for i in df_cat:\n",
        "  df[i].fillna(df[i].mode()[0],inplace=True)\n",
        "     "
      ],
      "metadata": {
        "id": "ZqS3lHrckhR5"
      },
      "execution_count": 61,
      "outputs": []
    },
    {
      "cell_type": "code",
      "source": [
        "df.isnull().sum()"
      ],
      "metadata": {
        "colab": {
          "base_uri": "https://localhost:8080/",
          "height": 0
        },
        "id": "rjd-17ntkunv",
        "outputId": "c4668c35-3279-4ddb-dcc3-361fcf63fe57"
      },
      "execution_count": 62,
      "outputs": [
        {
          "output_type": "execute_result",
          "data": {
            "text/plain": [
              "Date                 0\n",
              "Location             0\n",
              "MinTemp            637\n",
              "MaxTemp            322\n",
              "Rainfall          1406\n",
              "Evaporation      60843\n",
              "Sunshine         67816\n",
              "WindGustDir          0\n",
              "WindGustSpeed     9270\n",
              "WindDir9am           0\n",
              "WindDir3pm           0\n",
              "WindSpeed9am      1348\n",
              "WindSpeed3pm      2630\n",
              "Humidity9am       1774\n",
              "Humidity3pm       3610\n",
              "Pressure9am      14014\n",
              "Pressure3pm      13981\n",
              "Cloud9am         53657\n",
              "Cloud3pm         57094\n",
              "Temp9am            904\n",
              "Temp3pm           2726\n",
              "RainToday            0\n",
              "RISK_MM              0\n",
              "RainTomorrow         0\n",
              "dtype: int64"
            ]
          },
          "metadata": {},
          "execution_count": 62
        }
      ]
    },
    {
      "cell_type": "code",
      "source": [
        "#now we will do for numerical columns\n",
        "t=(df.dtypes=='float64')\n",
        "df_num=list(t[t].index)\n",
        "print(\"Numerical type of columns\")\n",
        "print(df_num)"
      ],
      "metadata": {
        "colab": {
          "base_uri": "https://localhost:8080/",
          "height": 0
        },
        "id": "IPmwAux-kygz",
        "outputId": "c408b4ae-6333-459e-f036-f10b83b11081"
      },
      "execution_count": 63,
      "outputs": [
        {
          "output_type": "stream",
          "name": "stdout",
          "text": [
            "Numerical type of columns\n",
            "['MinTemp', 'MaxTemp', 'Rainfall', 'Evaporation', 'Sunshine', 'WindGustSpeed', 'WindSpeed9am', 'WindSpeed3pm', 'Humidity9am', 'Humidity3pm', 'Pressure9am', 'Pressure3pm', 'Cloud9am', 'Cloud3pm', 'Temp9am', 'Temp3pm', 'RISK_MM']\n"
          ]
        }
      ]
    },
    {
      "cell_type": "code",
      "source": [
        "#To check null values()\n",
        "for i in df_num:\n",
        "  print(i,df[i].isnull().sum())"
      ],
      "metadata": {
        "colab": {
          "base_uri": "https://localhost:8080/",
          "height": 0
        },
        "id": "E3L1yXeFk3HR",
        "outputId": "6e4a0a85-7bd8-46f8-85cb-763c22e863af"
      },
      "execution_count": 64,
      "outputs": [
        {
          "output_type": "stream",
          "name": "stdout",
          "text": [
            "MinTemp 637\n",
            "MaxTemp 322\n",
            "Rainfall 1406\n",
            "Evaporation 60843\n",
            "Sunshine 67816\n",
            "WindGustSpeed 9270\n",
            "WindSpeed9am 1348\n",
            "WindSpeed3pm 2630\n",
            "Humidity9am 1774\n",
            "Humidity3pm 3610\n",
            "Pressure9am 14014\n",
            "Pressure3pm 13981\n",
            "Cloud9am 53657\n",
            "Cloud3pm 57094\n",
            "Temp9am 904\n",
            "Temp3pm 2726\n",
            "RISK_MM 0\n"
          ]
        }
      ]
    },
    {
      "cell_type": "code",
      "source": [
        "#fill null values with median\n",
        "for i in df_num:\n",
        "  df[i].fillna(df[i].median(),inplace=True)"
      ],
      "metadata": {
        "id": "CIXn7klHk7Uc"
      },
      "execution_count": 65,
      "outputs": []
    },
    {
      "cell_type": "code",
      "source": [
        "#again to chck he null values\n",
        "for i in df_num:\n",
        "  print(i,df[i].isnull().sum())"
      ],
      "metadata": {
        "colab": {
          "base_uri": "https://localhost:8080/",
          "height": 0
        },
        "id": "Hu2KeI6VlAQU",
        "outputId": "d8ff722c-e568-4289-d507-3a11be36552d"
      },
      "execution_count": 66,
      "outputs": [
        {
          "output_type": "stream",
          "name": "stdout",
          "text": [
            "MinTemp 0\n",
            "MaxTemp 0\n",
            "Rainfall 0\n",
            "Evaporation 0\n",
            "Sunshine 0\n",
            "WindGustSpeed 0\n",
            "WindSpeed9am 0\n",
            "WindSpeed3pm 0\n",
            "Humidity9am 0\n",
            "Humidity3pm 0\n",
            "Pressure9am 0\n",
            "Pressure3pm 0\n",
            "Cloud9am 0\n",
            "Cloud3pm 0\n",
            "Temp9am 0\n",
            "Temp3pm 0\n",
            "RISK_MM 0\n"
          ]
        }
      ]
    },
    {
      "cell_type": "code",
      "source": [
        "df.isnull().sum()"
      ],
      "metadata": {
        "colab": {
          "base_uri": "https://localhost:8080/",
          "height": 0
        },
        "id": "1D21gm7xlEkl",
        "outputId": "e48ce12c-f3b3-4afa-b82c-62610a4bbb0a"
      },
      "execution_count": 67,
      "outputs": [
        {
          "output_type": "execute_result",
          "data": {
            "text/plain": [
              "Date             0\n",
              "Location         0\n",
              "MinTemp          0\n",
              "MaxTemp          0\n",
              "Rainfall         0\n",
              "Evaporation      0\n",
              "Sunshine         0\n",
              "WindGustDir      0\n",
              "WindGustSpeed    0\n",
              "WindDir9am       0\n",
              "WindDir3pm       0\n",
              "WindSpeed9am     0\n",
              "WindSpeed3pm     0\n",
              "Humidity9am      0\n",
              "Humidity3pm      0\n",
              "Pressure9am      0\n",
              "Pressure3pm      0\n",
              "Cloud9am         0\n",
              "Cloud3pm         0\n",
              "Temp9am          0\n",
              "Temp3pm          0\n",
              "RainToday        0\n",
              "RISK_MM          0\n",
              "RainTomorrow     0\n",
              "dtype: int64"
            ]
          },
          "metadata": {},
          "execution_count": 67
        }
      ]
    },
    {
      "cell_type": "code",
      "source": [
        "sns.heatmap(df.isnull())  #now there is no null values\n",
        "plt.show()\n",
        "     "
      ],
      "metadata": {
        "colab": {
          "base_uri": "https://localhost:8080/",
          "height": 533
        },
        "id": "9ceWcdd6lI0b",
        "outputId": "80e23512-e82a-4907-9c36-a6835a603116"
      },
      "execution_count": 68,
      "outputs": [
        {
          "output_type": "display_data",
          "data": {
            "text/plain": [
              "<Figure size 640x480 with 2 Axes>"
            ],
            "image/png": "[encoded data removed]"
          },
          "metadata": {}
        }
      ]
    },
    {
      "cell_type": "code",
      "source": [
        "#now we check the data typpes\n",
        "df.dtypes\n",
        "     "
      ],
      "metadata": {
        "colab": {
          "base_uri": "https://localhost:8080/",
          "height": 0
        },
        "id": "ys-u586AlMQX",
        "outputId": "df43f8bd-a387-4420-884b-f553f354bfb3"
      },
      "execution_count": 69,
      "outputs": [
        {
          "output_type": "execute_result",
          "data": {
            "text/plain": [
              "Date              object\n",
              "Location          object\n",
              "MinTemp          float64\n",
              "MaxTemp          float64\n",
              "Rainfall         float64\n",
              "Evaporation      float64\n",
              "Sunshine         float64\n",
              "WindGustDir       object\n",
              "WindGustSpeed    float64\n",
              "WindDir9am        object\n",
              "WindDir3pm        object\n",
              "WindSpeed9am     float64\n",
              "WindSpeed3pm     float64\n",
              "Humidity9am      float64\n",
              "Humidity3pm      float64\n",
              "Pressure9am      float64\n",
              "Pressure3pm      float64\n",
              "Cloud9am         float64\n",
              "Cloud3pm         float64\n",
              "Temp9am          float64\n",
              "Temp3pm          float64\n",
              "RainToday         object\n",
              "RISK_MM          float64\n",
              "RainTomorrow      object\n",
              "dtype: object"
            ]
          },
          "metadata": {},
          "execution_count": 69
        }
      ]
    },
    {
      "cell_type": "code",
      "source": [
        "sns.countplot(data=df,x= \"RainTomorrow\")\n",
        "plt.show()"
      ],
      "metadata": {
        "colab": {
          "base_uri": "https://localhost:8080/",
          "height": 449
        },
        "id": "E4K2_61vlUJ8",
        "outputId": "7088ec39-8437-4cc5-8898-dfc65c3f4917"
      },
      "execution_count": 70,
      "outputs": [
        {
          "output_type": "display_data",
          "data": {
            "text/plain": [
              "<Figure size 640x480 with 1 Axes>"
            ],
            "image/png": "[encoded data removed]"
          },
          "metadata": {}
        }
      ]
    },
    {
      "cell_type": "code",
      "source": [
        "#plt.figure(figsize=(18,18))\n",
        "#sns.heatmap(df.corr(),annot=True)\n",
        "#plt.show()\n",
        "     "
      ],
      "metadata": {
        "id": "ZNLdaPVDlYNj"
      },
      "execution_count": 71,
      "outputs": []
    },
    {
      "cell_type": "markdown",
      "source": [
        "# Modelling"
      ],
      "metadata": {
        "id": "RPxO_C-3lc4P"
      }
    },
    {
      "cell_type": "code",
      "source": [
        "#apply Label encoder on catgorical data\n",
        "from sklearn.preprocessing import LabelEncoder"
      ],
      "metadata": {
        "id": "AJYQnxqUlhTn"
      },
      "execution_count": 72,
      "outputs": []
    },
    {
      "cell_type": "code",
      "source": [
        "#create the object for LabelEncoder\n",
        "le=LabelEncoder()\n",
        "for i in df_cat:\n",
        "  df[i]=le.fit_transform(df[i])\n",
        "   "
      ],
      "metadata": {
        "id": "SEnkWpsSltsl"
      },
      "execution_count": 73,
      "outputs": []
    },
    {
      "cell_type": "code",
      "source": [
        "df.head() #to check encoding"
      ],
      "metadata": {
        "colab": {
          "base_uri": "https://localhost:8080/",
          "height": 299
        },
        "id": "HD2o6hamlxLA",
        "outputId": "9aa57eed-8c54-42df-8eee-b462b4b8f9a0"
      },
      "execution_count": 74,
      "outputs": [
        {
          "output_type": "execute_result",
          "data": {
            "text/plain": [
              "   Date  Location  MinTemp  MaxTemp  Rainfall  Evaporation  Sunshine  \\\n",
              "0   396         2     13.4     22.9       0.6          4.8       8.5   \n",
              "1   397         2      7.4     25.1       0.0          4.8       8.5   \n",
              "2   398         2     12.9     25.7       0.0          4.8       8.5   \n",
              "3   399         2      9.2     28.0       0.0          4.8       8.5   \n",
              "4   400         2     17.5     32.3       1.0          4.8       8.5   \n",
              "\n",
              "   WindGustDir  WindGustSpeed  WindDir9am  ...  Humidity3pm  Pressure9am  \\\n",
              "0           13           44.0          13  ...         22.0       1007.7   \n",
              "1           14           44.0           6  ...         25.0       1010.6   \n",
              "2           15           46.0          13  ...         30.0       1007.6   \n",
              "3            4           24.0           9  ...         16.0       1017.6   \n",
              "4           13           41.0           1  ...         33.0       1010.8   \n",
              "\n",
              "   Pressure3pm  Cloud9am  Cloud3pm  Temp9am  Temp3pm  RainToday  RISK_MM  \\\n",
              "0       1007.1       8.0       5.0     16.9     21.8          0      0.0   \n",
              "1       1007.8       5.0       5.0     17.2     24.3          0      0.0   \n",
              "2       1008.7       5.0       2.0     21.0     23.2          0      0.0   \n",
              "3       1012.8       5.0       5.0     18.1     26.5          0      1.0   \n",
              "4       1006.0       7.0       8.0     17.8     29.7          0      0.2   \n",
              "\n",
              "   RainTomorrow  \n",
              "0             0  \n",
              "1             0  \n",
              "2             0  \n",
              "3             0  \n",
              "4             0  \n",
              "\n",
              "[5 rows x 24 columns]"
            ],
            "text/html": [
              "\n",
              "  <div id=\"df-c2ede3c6-d880-4a6c-9255-0dae597cfc34\">\n",
              "    <div class=\"colab-df-container\">\n",
              "      <div>\n",
              "<style scoped>\n",
              "    .dataframe tbody tr th:only-of-type {\n",
              "        vertical-align: middle;\n",
              "    }\n",
              "\n",
              "    .dataframe tbody tr th {\n",
              "        vertical-align: top;\n",
              "    }\n",
              "\n",
              "    .dataframe thead th {\n",
              "        text-align: right;\n",
              "    }\n",
              "</style>\n",
              "<table border=\"1\" class=\"dataframe\">\n",
              "  <thead>\n",
              "    <tr style=\"text-align: right;\">\n",
              "      <th></th>\n",
              "      <th>Date</th>\n",
              "      <th>Location</th>\n",
              "      <th>MinTemp</th>\n",
              "      <th>MaxTemp</th>\n",
              "      <th>Rainfall</th>\n",
              "      <th>Evaporation</th>\n",
              "      <th>Sunshine</th>\n",
              "      <th>WindGustDir</th>\n",
              "      <th>WindGustSpeed</th>\n",
              "      <th>WindDir9am</th>\n",
              "      <th>...</th>\n",
              "      <th>Humidity3pm</th>\n",
              "      <th>Pressure9am</th>\n",
              "      <th>Pressure3pm</th>\n",
              "      <th>Cloud9am</th>\n",
              "      <th>Cloud3pm</th>\n",
              "      <th>Temp9am</th>\n",
              "      <th>Temp3pm</th>\n",
              "      <th>RainToday</th>\n",
              "      <th>RISK_MM</th>\n",
              "      <th>RainTomorrow</th>\n",
              "    </tr>\n",
              "  </thead>\n",
              "  <tbody>\n",
              "    <tr>\n",
              "      <th>0</th>\n",
              "      <td>396</td>\n",
              "      <td>2</td>\n",
              "      <td>13.4</td>\n",
              "      <td>22.9</td>\n",
              "      <td>0.6</td>\n",
              "      <td>4.8</td>\n",
              "      <td>8.5</td>\n",
              "      <td>13</td>\n",
              "      <td>44.0</td>\n",
              "      <td>13</td>\n",
              "      <td>...</td>\n",
              "      <td>22.0</td>\n",
              "      <td>1007.7</td>\n",
              "      <td>1007.1</td>\n",
              "      <td>8.0</td>\n",
              "      <td>5.0</td>\n",
              "      <td>16.9</td>\n",
              "      <td>21.8</td>\n",
              "      <td>0</td>\n",
              "      <td>0.0</td>\n",
              "      <td>0</td>\n",
              "    </tr>\n",
              "    <tr>\n",
              "      <th>1</th>\n",
              "      <td>397</td>\n",
              "      <td>2</td>\n",
              "      <td>7.4</td>\n",
              "      <td>25.1</td>\n",
              "      <td>0.0</td>\n",
              "      <td>4.8</td>\n",
              "      <td>8.5</td>\n",
              "      <td>14</td>\n",
              "      <td>44.0</td>\n",
              "      <td>6</td>\n",
              "      <td>...</td>\n",
              "      <td>25.0</td>\n",
              "      <td>1010.6</td>\n",
              "      <td>1007.8</td>\n",
              "      <td>5.0</td>\n",
              "      <td>5.0</td>\n",
              "      <td>17.2</td>\n",
              "      <td>24.3</td>\n",
              "      <td>0</td>\n",
              "      <td>0.0</td>\n",
              "      <td>0</td>\n",
              "    </tr>\n",
              "    <tr>\n",
              "      <th>2</th>\n",
              "      <td>398</td>\n",
              "      <td>2</td>\n",
              "      <td>12.9</td>\n",
              "      <td>25.7</td>\n",
              "      <td>0.0</td>\n",
              "      <td>4.8</td>\n",
              "      <td>8.5</td>\n",
              "      <td>15</td>\n",
              "      <td>46.0</td>\n",
              "      <td>13</td>\n",
              "      <td>...</td>\n",
              "      <td>30.0</td>\n",
              "      <td>1007.6</td>\n",
              "      <td>1008.7</td>\n",
              "      <td>5.0</td>\n",
              "      <td>2.0</td>\n",
              "      <td>21.0</td>\n",
              "      <td>23.2</td>\n",
              "      <td>0</td>\n",
              "      <td>0.0</td>\n",
              "      <td>0</td>\n",
              "    </tr>\n",
              "    <tr>\n",
              "      <th>3</th>\n",
              "      <td>399</td>\n",
              "      <td>2</td>\n",
              "      <td>9.2</td>\n",
              "      <td>28.0</td>\n",
              "      <td>0.0</td>\n",
              "      <td>4.8</td>\n",
              "      <td>8.5</td>\n",
              "      <td>4</td>\n",
              "      <td>24.0</td>\n",
              "      <td>9</td>\n",
              "      <td>...</td>\n",
              "      <td>16.0</td>\n",
              "      <td>1017.6</td>\n",
              "      <td>1012.8</td>\n",
              "      <td>5.0</td>\n",
              "      <td>5.0</td>\n",
              "      <td>18.1</td>\n",
              "      <td>26.5</td>\n",
              "      <td>0</td>\n",
              "      <td>1.0</td>\n",
              "      <td>0</td>\n",
              "    </tr>\n",
              "    <tr>\n",
              "      <th>4</th>\n",
              "      <td>400</td>\n",
              "      <td>2</td>\n",
              "      <td>17.5</td>\n",
              "      <td>32.3</td>\n",
              "      <td>1.0</td>\n",
              "      <td>4.8</td>\n",
              "      <td>8.5</td>\n",
              "      <td>13</td>\n",
              "      <td>41.0</td>\n",
              "      <td>1</td>\n",
              "      <td>...</td>\n",
              "      <td>33.0</td>\n",
              "      <td>1010.8</td>\n",
              "      <td>1006.0</td>\n",
              "      <td>7.0</td>\n",
              "      <td>8.0</td>\n",
              "      <td>17.8</td>\n",
              "      <td>29.7</td>\n",
              "      <td>0</td>\n",
              "      <td>0.2</td>\n",
              "      <td>0</td>\n",
              "    </tr>\n",
              "  </tbody>\n",
              "</table>\n",
              "<p>5 rows × 24 columns</p>\n",
              "</div>\n",
              "      <button class=\"colab-df-convert\" onclick=\"convertToInteractive('df-c2ede3c6-d880-4a6c-9255-0dae597cfc34')\"\n",
              "              title=\"Convert this dataframe to an interactive table.\"\n",
              "              style=\"display:none;\">\n",
              "        \n",
              "  <svg xmlns=\"http://www.w3.org/2000/svg\" height=\"24px\"viewBox=\"0 0 24 24\"\n",
              "       width=\"24px\">\n",
              "    <path d=\"M0 0h24v24H0V0z\" fill=\"none\"/>\n",
              "    <path d=\"M18.56 5.44l.94 2.06.94-2.06 2.06-.94-2.06-.94-.94-2.06-.94 2.06-2.06.94zm-11 1L8.5 8.5l.94-2.06 2.06-.94-2.06-.94L8.5 2.5l-.94 2.06-2.06.94zm10 10l.94 2.06.94-2.06 2.06-.94-2.06-.94-.94-2.06-.94 2.06-2.06.94z\"/><path d=\"M17.41 7.96l-1.37-1.37c-.4-.4-.92-.59-1.43-.59-.52 0-1.04.2-1.43.59L10.3 9.45l-7.72 7.72c-.78.78-.78 2.05 0 2.83L4 21.41c.39.39.9.59 1.41.59.51 0 1.02-.2 1.41-.59l7.78-7.78 2.81-2.81c.8-.78.8-2.07 0-2.86zM5.41 20L4 18.59l7.72-7.72 1.47 1.35L5.41 20z\"/>\n",
              "  </svg>\n",
              "      </button>\n",
              "      \n",
              "  <style>\n",
              "    .colab-df-container {\n",
              "      display:flex;\n",
              "      flex-wrap:wrap;\n",
              "      gap: 12px;\n",
              "    }\n",
              "\n",
              "    .colab-df-convert {\n",
              "      background-color: #E8F0FE;\n",
              "      border: none;\n",
              "      border-radius: 50%;\n",
              "      cursor: pointer;\n",
              "      display: none;\n",
              "      fill: #1967D2;\n",
              "      height: 32px;\n",
              "      padding: 0 0 0 0;\n",
              "      width: 32px;\n",
              "    }\n",
              "\n",
              "    .colab-df-convert:hover {\n",
              "      background-color: #E2EBFA;\n",
              "      box-shadow: 0px 1px 2px rgba(60, 64, 67, 0.3), 0px 1px 3px 1px rgba(60, 64, 67, 0.15);\n",
              "      fill: #174EA6;\n",
              "    }\n",
              "\n",
              "    [theme=dark] .colab-df-convert {\n",
              "      background-color: #3B4455;\n",
              "      fill: #D2E3FC;\n",
              "    }\n",
              "\n",
              "    [theme=dark] .colab-df-convert:hover {\n",
              "      background-color: #434B5C;\n",
              "      box-shadow: 0px 1px 3px 1px rgba(0, 0, 0, 0.15);\n",
              "      filter: drop-shadow(0px 1px 2px rgba(0, 0, 0, 0.3));\n",
              "      fill: #FFFFFF;\n",
              "    }\n",
              "  </style>\n",
              "\n",
              "      <script>\n",
              "        const buttonEl =\n",
              "          document.querySelector('#df-c2ede3c6-d880-4a6c-9255-0dae597cfc34 button.colab-df-convert');\n",
              "        buttonEl.style.display =\n",
              "          google.colab.kernel.accessAllowed ? 'block' : 'none';\n",
              "\n",
              "        async function convertToInteractive(key) {\n",
              "          const element = document.querySelector('#df-c2ede3c6-d880-4a6c-9255-0dae597cfc34');\n",
              "          const dataTable =\n",
              "            await google.colab.kernel.invokeFunction('convertToInteractive',\n",
              "                                                     [key], {});\n",
              "          if (!dataTable) return;\n",
              "\n",
              "          const docLinkHtml = 'Like what you see? Visit the ' +\n",
              "            '<a target=\"_blank\" href=https://colab.research.google.com/notebooks/data_table.ipynb>data table notebook</a>'\n",
              "            + ' to learn more about interactive tables.';\n",
              "          element.innerHTML = '';\n",
              "          dataTable['output_type'] = 'display_data';\n",
              "          await google.colab.output.renderOutput(dataTable, element);\n",
              "          const docLink = document.createElement('div');\n",
              "          docLink.innerHTML = docLinkHtml;\n",
              "          element.appendChild(docLink);\n",
              "        }\n",
              "      </script>\n",
              "    </div>\n",
              "  </div>\n",
              "  "
            ]
          },
          "metadata": {},
          "execution_count": 74
        }
      ]
    },
    {
      "cell_type": "code",
      "source": [
        "#seperate input and output\n",
        "X=df.drop(\"RainTomorrow\",axis=1)  #input\n",
        "Y=df[\"RainTomorrow\"]  #output"
      ],
      "metadata": {
        "id": "5M4HiUHsl0xl"
      },
      "execution_count": 75,
      "outputs": []
    },
    {
      "cell_type": "code",
      "source": [
        "#train _test_split\n",
        "from sklearn.model_selection import train_test_split\n",
        "X_train,X_test,Y_train,Y_test=train_test_split(X,Y,test_size=0.3,random_state=1)"
      ],
      "metadata": {
        "id": "UyOa3nb2l41H"
      },
      "execution_count": 76,
      "outputs": []
    },
    {
      "cell_type": "code",
      "source": [
        "X_train.shape  #70% data"
      ],
      "metadata": {
        "colab": {
          "base_uri": "https://localhost:8080/",
          "height": 0
        },
        "id": "JYMMnUU6l9lj",
        "outputId": "ae4645e9-2862-4b4c-bdcf-e50feba816cd"
      },
      "execution_count": 77,
      "outputs": [
        {
          "output_type": "execute_result",
          "data": {
            "text/plain": [
              "(99535, 23)"
            ]
          },
          "metadata": {},
          "execution_count": 77
        }
      ]
    },
    {
      "cell_type": "code",
      "source": [
        "X_test.shape#30% data"
      ],
      "metadata": {
        "colab": {
          "base_uri": "https://localhost:8080/",
          "height": 0
        },
        "id": "hPON9OH7mBPl",
        "outputId": "aa86cfc7-f2e4-452f-aae0-5415eaefd263"
      },
      "execution_count": 78,
      "outputs": [
        {
          "output_type": "execute_result",
          "data": {
            "text/plain": [
              "(42658, 23)"
            ]
          },
          "metadata": {},
          "execution_count": 78
        }
      ]
    },
    {
      "cell_type": "code",
      "source": [
        "#StandardScaler\n",
        "#appling scaling on input\n",
        "from sklearn.preprocessing import StandardScaler\n",
        "#create the object of StandardScaler\n",
        "ss=StandardScaler()\n",
        "X_train=ss.fit_transform(X_train)\n",
        "X_test=ss.transform(X_test)\n",
        "     "
      ],
      "metadata": {
        "id": "rdN3iHdXmEqp"
      },
      "execution_count": 79,
      "outputs": []
    },
    {
      "cell_type": "markdown",
      "source": [
        "# \n",
        " #to check scaling"
      ],
      "metadata": {
        "id": "q81OXjV9mKkX"
      }
    },
    {
      "cell_type": "code",
      "source": [
        "#to check data balance or not\n",
        "df[\"RainTomorrow\"].value_counts()   #data is unbalanced"
      ],
      "metadata": {
        "colab": {
          "base_uri": "https://localhost:8080/",
          "height": 0
        },
        "id": "W4uGFxUJmNUP",
        "outputId": "c87924f0-b226-4e10-85dd-b77a9966cff5"
      },
      "execution_count": 80,
      "outputs": [
        {
          "output_type": "execute_result",
          "data": {
            "text/plain": [
              "0    110316\n",
              "1     31877\n",
              "Name: RainTomorrow, dtype: int64"
            ]
          },
          "metadata": {},
          "execution_count": 80
        }
      ]
    },
    {
      "cell_type": "code",
      "source": [
        "# ! pip install imblearn\n",
        "from imblearn.over_sampling import RandomOverSampler\n",
        "ros =  RandomOverSampler()\n",
        "X_train,Y_train = ros.fit_resample(X_train,Y_train)\n",
        "X_test,Y_test = ros.fit_resample(X_test,Y_test)"
      ],
      "metadata": {
        "id": "8KTQp3aTmVEa"
      },
      "execution_count": 81,
      "outputs": []
    },
    {
      "cell_type": "code",
      "source": [
        "pd.Series(Y_train).value_counts()   #to check the  balance or not"
      ],
      "metadata": {
        "colab": {
          "base_uri": "https://localhost:8080/",
          "height": 0
        },
        "id": "j_Qaxb0fmdJD",
        "outputId": "6bfc2dfa-b1b1-411a-e8e8-6d300d1b6544"
      },
      "execution_count": 82,
      "outputs": [
        {
          "output_type": "execute_result",
          "data": {
            "text/plain": [
              "0    77177\n",
              "1    77177\n",
              "Name: RainTomorrow, dtype: int64"
            ]
          },
          "metadata": {},
          "execution_count": 82
        }
      ]
    },
    {
      "cell_type": "code",
      "source": [
        "#Create neural Network\n",
        "import tensorflow as tf\n",
        "model=tf.keras.Sequential([tf.keras.layers.Dense(units=20,activation=\"relu\",input_shape=(X.shape[1],)),\n",
        "                           tf.keras.layers.Dense(units=16,activation=\"relu\"),\n",
        "                           tf.keras.layers.Dense(units=1,activation=\"sigmoid\")])"
      ],
      "metadata": {
        "id": "EHrNQRBkmhO3"
      },
      "execution_count": 83,
      "outputs": []
    },
    {
      "cell_type": "code",
      "source": [
        "#compile the model\n",
        "model.compile(optimizer=\"adam\",loss=\"binary_crossentropy\",metrics=['accuracy'])"
      ],
      "metadata": {
        "id": "MvSeriSCmp-r"
      },
      "execution_count": 84,
      "outputs": []
    },
    {
      "cell_type": "code",
      "source": [
        "#create the early stopping to prevent from the overfitting due to epochs(iteration)\n",
        "#means we create call back\n",
        "from tensorflow.keras.callbacks import EarlyStopping\n",
        "callback = EarlyStopping(\n",
        "    monitor=\"val_loss\",\n",
        "    min_delta=0.00001,\n",
        "    patience=20,\n",
        "    verbose=1,\n",
        "    mode=\"auto\",\n",
        "    baseline=None,\n",
        "    restore_best_weights=False\n",
        ")"
      ],
      "metadata": {
        "id": "9glr3ubTmvhz"
      },
      "execution_count": 85,
      "outputs": []
    },
    {
      "cell_type": "code",
      "source": [
        "#trained the model\n",
        "trained_model=model.fit(X_train,Y_train,batch_size=32,epochs=50,validation_data=(X_test,Y_test),callbacks=callback)"
      ],
      "metadata": {
        "colab": {
          "base_uri": "https://localhost:8080/",
          "height": 0
        },
        "id": "H3oIJTHHmzX0",
        "outputId": "f5fc16ba-9893-4adc-998d-071f74f1364d"
      },
      "execution_count": 86,
      "outputs": [
        {
          "output_type": "stream",
          "name": "stdout",
          "text": [
            "Epoch 1/50\n",
            "4824/4824 [==============================] - 13s 3ms/step - loss: 0.0962 - accuracy: 0.9602 - val_loss: 0.0177 - val_accuracy: 0.9933\n",
            "Epoch 2/50\n",
            "4824/4824 [==============================] - 12s 3ms/step - loss: 0.0124 - accuracy: 0.9955 - val_loss: 0.0138 - val_accuracy: 0.9944\n",
            "Epoch 3/50\n",
            "4824/4824 [==============================] - 12s 3ms/step - loss: 0.0085 - accuracy: 0.9969 - val_loss: 0.0106 - val_accuracy: 0.9962\n",
            "Epoch 4/50\n",
            "4824/4824 [==============================] - 16s 3ms/step - loss: 0.0068 - accuracy: 0.9978 - val_loss: 0.0062 - val_accuracy: 0.9982\n",
            "Epoch 5/50\n",
            "4824/4824 [==============================] - 12s 3ms/step - loss: 0.0056 - accuracy: 0.9982 - val_loss: 0.0080 - val_accuracy: 0.9967\n",
            "Epoch 6/50\n",
            "4824/4824 [==============================] - 12s 3ms/step - loss: 0.0050 - accuracy: 0.9983 - val_loss: 0.0078 - val_accuracy: 0.9967\n",
            "Epoch 7/50\n",
            "4824/4824 [==============================] - 17s 4ms/step - loss: 0.0045 - accuracy: 0.9987 - val_loss: 0.0040 - val_accuracy: 0.9992\n",
            "Epoch 8/50\n",
            "4824/4824 [==============================] - 16s 3ms/step - loss: 0.0036 - accuracy: 0.9989 - val_loss: 0.0070 - val_accuracy: 0.9974\n",
            "Epoch 9/50\n",
            "4824/4824 [==============================] - 17s 3ms/step - loss: 0.0037 - accuracy: 0.9988 - val_loss: 0.0028 - val_accuracy: 0.9989\n",
            "Epoch 10/50\n",
            "4824/4824 [==============================] - 17s 3ms/step - loss: 0.0028 - accuracy: 0.9992 - val_loss: 7.0836e-04 - val_accuracy: 0.9999\n",
            "Epoch 11/50\n",
            "4824/4824 [==============================] - 15s 3ms/step - loss: 0.0030 - accuracy: 0.9991 - val_loss: 6.3045e-04 - val_accuracy: 1.0000\n",
            "Epoch 12/50\n",
            "4824/4824 [==============================] - 16s 3ms/step - loss: 0.0033 - accuracy: 0.9990 - val_loss: 0.0028 - val_accuracy: 0.9991\n",
            "Epoch 13/50\n",
            "4824/4824 [==============================] - 16s 3ms/step - loss: 0.0026 - accuracy: 0.9992 - val_loss: 0.0020 - val_accuracy: 0.9994\n",
            "Epoch 14/50\n",
            "4824/4824 [==============================] - 16s 3ms/step - loss: 0.0024 - accuracy: 0.9992 - val_loss: 0.0012 - val_accuracy: 0.9998\n",
            "Epoch 15/50\n",
            "4824/4824 [==============================] - 14s 3ms/step - loss: 0.0025 - accuracy: 0.9993 - val_loss: 7.6805e-04 - val_accuracy: 0.9998\n",
            "Epoch 16/50\n",
            "4824/4824 [==============================] - 19s 4ms/step - loss: 0.0019 - accuracy: 0.9994 - val_loss: 4.9500e-04 - val_accuracy: 0.9999\n",
            "Epoch 17/50\n",
            "4824/4824 [==============================] - 14s 3ms/step - loss: 0.0022 - accuracy: 0.9993 - val_loss: 4.6874e-04 - val_accuracy: 0.9999\n",
            "Epoch 18/50\n",
            "4824/4824 [==============================] - 13s 3ms/step - loss: 0.0017 - accuracy: 0.9995 - val_loss: 0.0060 - val_accuracy: 0.9980\n",
            "Epoch 19/50\n",
            "4824/4824 [==============================] - 12s 2ms/step - loss: 0.0023 - accuracy: 0.9993 - val_loss: 9.9567e-04 - val_accuracy: 0.9998\n",
            "Epoch 20/50\n",
            "4824/4824 [==============================] - 22s 5ms/step - loss: 0.0014 - accuracy: 0.9997 - val_loss: 3.1588e-04 - val_accuracy: 0.9998\n",
            "Epoch 21/50\n",
            "4824/4824 [==============================] - 19s 4ms/step - loss: 0.0020 - accuracy: 0.9995 - val_loss: 3.8164e-04 - val_accuracy: 0.9999\n",
            "Epoch 22/50\n",
            "4824/4824 [==============================] - 15s 3ms/step - loss: 0.0025 - accuracy: 0.9993 - val_loss: 4.7110e-04 - val_accuracy: 1.0000\n",
            "Epoch 23/50\n",
            "4824/4824 [==============================] - 13s 3ms/step - loss: 0.0014 - accuracy: 0.9996 - val_loss: 2.1616e-04 - val_accuracy: 0.9999\n",
            "Epoch 24/50\n",
            "4824/4824 [==============================] - 16s 3ms/step - loss: 0.0015 - accuracy: 0.9996 - val_loss: 0.0037 - val_accuracy: 0.9988\n",
            "Epoch 25/50\n",
            "4824/4824 [==============================] - 19s 4ms/step - loss: 0.0017 - accuracy: 0.9995 - val_loss: 0.0020 - val_accuracy: 0.9993\n",
            "Epoch 26/50\n",
            "4824/4824 [==============================] - 15s 3ms/step - loss: 0.0019 - accuracy: 0.9995 - val_loss: 0.0011 - val_accuracy: 0.9997\n",
            "Epoch 27/50\n",
            "4824/4824 [==============================] - 13s 3ms/step - loss: 0.0015 - accuracy: 0.9996 - val_loss: 4.1813e-04 - val_accuracy: 0.9999\n",
            "Epoch 28/50\n",
            "4824/4824 [==============================] - 20s 4ms/step - loss: 0.0015 - accuracy: 0.9995 - val_loss: 0.0025 - val_accuracy: 0.9990\n",
            "Epoch 29/50\n",
            "4824/4824 [==============================] - 18s 4ms/step - loss: 0.0016 - accuracy: 0.9996 - val_loss: 3.6043e-04 - val_accuracy: 1.0000\n",
            "Epoch 30/50\n",
            "4824/4824 [==============================] - 16s 3ms/step - loss: 0.0017 - accuracy: 0.9996 - val_loss: 2.0242e-04 - val_accuracy: 1.0000\n",
            "Epoch 31/50\n",
            "4824/4824 [==============================] - 12s 3ms/step - loss: 0.0013 - accuracy: 0.9997 - val_loss: 1.4815e-04 - val_accuracy: 1.0000\n",
            "Epoch 32/50\n",
            "4824/4824 [==============================] - 12s 3ms/step - loss: 0.0012 - accuracy: 0.9996 - val_loss: 2.2715e-04 - val_accuracy: 1.0000\n",
            "Epoch 33/50\n",
            "4824/4824 [==============================] - 12s 3ms/step - loss: 0.0014 - accuracy: 0.9996 - val_loss: 6.7802e-04 - val_accuracy: 0.9997\n",
            "Epoch 34/50\n",
            "4824/4824 [==============================] - 12s 3ms/step - loss: 0.0018 - accuracy: 0.9995 - val_loss: 0.0011 - val_accuracy: 0.9997\n",
            "Epoch 35/50\n",
            "4824/4824 [==============================] - 16s 3ms/step - loss: 0.0013 - accuracy: 0.9996 - val_loss: 0.0080 - val_accuracy: 0.9972\n",
            "Epoch 36/50\n",
            "4824/4824 [==============================] - 18s 4ms/step - loss: 8.0463e-04 - accuracy: 0.9998 - val_loss: 7.7999e-05 - val_accuracy: 1.0000\n",
            "Epoch 37/50\n",
            "4824/4824 [==============================] - 17s 3ms/step - loss: 0.0016 - accuracy: 0.9995 - val_loss: 0.0029 - val_accuracy: 0.9989\n",
            "Epoch 38/50\n",
            "4824/4824 [==============================] - 17s 4ms/step - loss: 0.0014 - accuracy: 0.9997 - val_loss: 1.1492e-04 - val_accuracy: 1.0000\n",
            "Epoch 39/50\n",
            "4824/4824 [==============================] - 15s 3ms/step - loss: 0.0011 - accuracy: 0.9998 - val_loss: 1.8007e-04 - val_accuracy: 1.0000\n",
            "Epoch 40/50\n",
            "4824/4824 [==============================] - 12s 3ms/step - loss: 0.0018 - accuracy: 0.9996 - val_loss: 1.2936e-04 - val_accuracy: 1.0000\n",
            "Epoch 41/50\n",
            "4824/4824 [==============================] - 12s 3ms/step - loss: 5.4019e-04 - accuracy: 0.9999 - val_loss: 8.7406e-05 - val_accuracy: 1.0000\n",
            "Epoch 42/50\n",
            "4824/4824 [==============================] - 19s 4ms/step - loss: 0.0015 - accuracy: 0.9996 - val_loss: 8.3426e-05 - val_accuracy: 1.0000\n",
            "Epoch 43/50\n",
            "4824/4824 [==============================] - 20s 4ms/step - loss: 9.0470e-04 - accuracy: 0.9998 - val_loss: 7.5432e-05 - val_accuracy: 1.0000\n",
            "Epoch 44/50\n",
            "4824/4824 [==============================] - 19s 4ms/step - loss: 8.9689e-04 - accuracy: 0.9998 - val_loss: 7.1183e-05 - val_accuracy: 1.0000\n",
            "Epoch 45/50\n",
            "4824/4824 [==============================] - 16s 3ms/step - loss: 0.0013 - accuracy: 0.9996 - val_loss: 1.0514e-04 - val_accuracy: 1.0000\n",
            "Epoch 46/50\n",
            "4824/4824 [==============================] - 12s 3ms/step - loss: 7.9624e-04 - accuracy: 0.9999 - val_loss: 9.0945e-05 - val_accuracy: 1.0000\n",
            "Epoch 47/50\n",
            "4824/4824 [==============================] - 12s 3ms/step - loss: 8.2480e-04 - accuracy: 0.9998 - val_loss: 7.8241e-05 - val_accuracy: 1.0000\n",
            "Epoch 48/50\n",
            "4824/4824 [==============================] - 12s 3ms/step - loss: 8.2967e-04 - accuracy: 0.9997 - val_loss: 4.2229e-05 - val_accuracy: 1.0000\n",
            "Epoch 49/50\n",
            "4824/4824 [==============================] - 12s 3ms/step - loss: 8.8213e-04 - accuracy: 0.9998 - val_loss: 8.8584e-05 - val_accuracy: 1.0000\n",
            "Epoch 50/50\n",
            "4824/4824 [==============================] - 12s 2ms/step - loss: 0.0018 - accuracy: 0.9996 - val_loss: 1.9969e-04 - val_accuracy: 0.9999\n"
          ]
        }
      ]
    },
    {
      "cell_type": "code",
      "source": [
        "print(\"Training Loss and Training Accuracy:  \",model.evaluate(X_train,Y_train))  #training \n",
        "print(\"Testing Loss and Testing Accuracy:  \",model.evaluate(X_test,Y_test)) #testing\n"
      ],
      "metadata": {
        "colab": {
          "base_uri": "https://localhost:8080/",
          "height": 0
        },
        "id": "aRLJG0QSm4oz",
        "outputId": "5f591087-379a-40a2-9b2f-b9c1097c23ff"
      },
      "execution_count": 87,
      "outputs": [
        {
          "output_type": "stream",
          "name": "stdout",
          "text": [
            "4824/4824 [==============================] - 7s 1ms/step - loss: 1.1391e-04 - accuracy: 1.0000\n",
            "Training Loss and Training Accuracy:   [0.00011391370935598388, 1.0]\n",
            "2072/2072 [==============================] - 3s 1ms/step - loss: 1.9969e-04 - accuracy: 0.9999\n",
            "Testing Loss and Testing Accuracy:   [0.00019969478307757527, 0.9999396204948425]\n"
          ]
        }
      ]
    },
    {
      "cell_type": "code",
      "source": [
        "#now visualize the training and testing loss\n",
        "plt.plot(trained_model.history[\"loss\"],label=\"Training loss\")\n",
        "plt.plot(trained_model.history[\"val_loss\"],label=\"Testing loss\")\n",
        "plt.legend()\n",
        "plt.show()"
      ],
      "metadata": {
        "colab": {
          "base_uri": "https://localhost:8080/",
          "height": 432
        },
        "id": "misu3tFsnAaK",
        "outputId": "0e283961-cb9c-4e92-d776-b4875621d052"
      },
      "execution_count": 88,
      "outputs": [
        {
          "output_type": "display_data",
          "data": {
            "text/plain": [
              "<Figure size 640x480 with 1 Axes>"
            ],
            "image/png": "[encoded data removed]"
          },
          "metadata": {}
        }
      ]
    },
    {
      "cell_type": "code",
      "source": [
        "#Visualize  for Accuracy \n",
        "plt.plot(trained_model.history['accuracy'],label=\"Training Accuracy\")\n",
        "plt.plot(trained_model.history['val_accuracy'],label=\"Testing Accuracy\")\n",
        "plt.legend()\n",
        "plt.show() "
      ],
      "metadata": {
        "colab": {
          "base_uri": "https://localhost:8080/",
          "height": 430
        },
        "id": "r8ODLHZInGHT",
        "outputId": "a933696c-97d3-47bf-c0d5-81b976a043c1"
      },
      "execution_count": 89,
      "outputs": [
        {
          "output_type": "display_data",
          "data": {
            "text/plain": [
              "<Figure size 640x480 with 1 Axes>"
            ],
            "image/png": "[encoded data removed]"
          },
          "metadata": {}
        }
      ]
    },
    {
      "cell_type": "code",
      "source": [
        "#testing the model\n",
        "Y_pred=model.predict(X_test).round(2)\n",
        "Y_pred"
      ],
      "metadata": {
        "colab": {
          "base_uri": "https://localhost:8080/",
          "height": 0
        },
        "id": "6yI48jEBnLPb",
        "outputId": "01ef3e61-c0d2-43fb-c79a-580d39d8ed8e"
      },
      "execution_count": 90,
      "outputs": [
        {
          "output_type": "stream",
          "name": "stdout",
          "text": [
            "2072/2072 [==============================] - 3s 1ms/step\n"
          ]
        },
        {
          "output_type": "execute_result",
          "data": {
            "text/plain": [
              "array([[0.],\n",
              "       [0.],\n",
              "       [0.],\n",
              "       ...,\n",
              "       [1.],\n",
              "       [1.],\n",
              "       [1.]], dtype=float32)"
            ]
          },
          "metadata": {},
          "execution_count": 90
        }
      ]
    },
    {
      "cell_type": "code",
      "source": [
        "Y_pred=np.where(Y_pred>=0.5,1,0)   #to give predicted output in 0 &1\n",
        "Y_pred"
      ],
      "metadata": {
        "colab": {
          "base_uri": "https://localhost:8080/",
          "height": 0
        },
        "id": "OUt9CofUnO4j",
        "outputId": "6ecb9b11-ebc0-452b-fce2-127d5022b74e"
      },
      "execution_count": 91,
      "outputs": [
        {
          "output_type": "execute_result",
          "data": {
            "text/plain": [
              "array([[0],\n",
              "       [0],\n",
              "       [0],\n",
              "       ...,\n",
              "       [1],\n",
              "       [1],\n",
              "       [1]])"
            ]
          },
          "metadata": {},
          "execution_count": 91
        }
      ]
    },
    {
      "cell_type": "code",
      "source": [
        "from sklearn.metrics import classification_report\n",
        "from sklearn.metrics import confusion_matrix\n",
        "     "
      ],
      "metadata": {
        "id": "XLMBHUWInSZ5"
      },
      "execution_count": 92,
      "outputs": []
    },
    {
      "cell_type": "code",
      "source": [
        "print(classification_report(Y_test,Y_pred))\n",
        "print(confusion_matrix(Y_test,Y_pred))"
      ],
      "metadata": {
        "colab": {
          "base_uri": "https://localhost:8080/",
          "height": 0
        },
        "id": "lIX-ktEZnY1M",
        "outputId": "ef0917e9-ef0c-4b0c-89a2-b37ee8690769"
      },
      "execution_count": 93,
      "outputs": [
        {
          "output_type": "stream",
          "name": "stdout",
          "text": [
            "              precision    recall  f1-score   support\n",
            "\n",
            "           0       1.00      1.00      1.00     33139\n",
            "           1       1.00      1.00      1.00     33139\n",
            "\n",
            "    accuracy                           1.00     66278\n",
            "   macro avg       1.00      1.00      1.00     66278\n",
            "weighted avg       1.00      1.00      1.00     66278\n",
            "\n",
            "[[33138     1]\n",
            " [    3 33136]]\n"
          ]
        }
      ]
    },
    {
      "cell_type": "code",
      "source": [
        "#so there is overfitting in the model so we use regularizers\n",
        "from keras import regularizers\n",
        "#from keras.layers import Dropout\n",
        "model1=tf.keras.Sequential([tf.keras.layers.Dense(units=20,activation=\"relu\",input_shape=(X.shape[1],),\n",
        "                                                  kernel_regularizer=regularizers.l2(0.01)),\n",
        "                           tf.keras.layers.Dense(units=16,activation=\"relu\",\n",
        "                                                  kernel_regularizer=regularizers.l2(0.01)),\n",
        "                           tf.keras.layers.Dense(units=1,activation=\"sigmoid\",\n",
        "                                                 kernel_regularizer=regularizers.l2(0.01))])\n"
      ],
      "metadata": {
        "id": "f_oBqmU_ncnM"
      },
      "execution_count": 94,
      "outputs": []
    },
    {
      "cell_type": "code",
      "source": [
        "#model.compile\n",
        "model1.compile(optimizer='adam',loss='binary_crossentropy',metrics=['accuracy'])"
      ],
      "metadata": {
        "id": "rnCmCYGOnhy6"
      },
      "execution_count": 95,
      "outputs": []
    },
    {
      "cell_type": "code",
      "source": [
        "#train the model\n",
        "trained_model1=model1.fit(X_train,Y_train,batch_size=32,epochs=50,\n",
        "                        validation_data=(X_test,Y_test),callbacks=callback)\n",
        "     "
      ],
      "metadata": {
        "colab": {
          "base_uri": "https://localhost:8080/",
          "height": 0
        },
        "id": "JMKOzrganlrA",
        "outputId": "9932f28e-a5f3-4dee-eb51-15d2cb422370"
      },
      "execution_count": 46,
      "outputs": [
        {
          "output_type": "stream",
          "name": "stdout",
          "text": [
            "Epoch 1/50\n",
            "4824/4824 [==============================] - 13s 3ms/step - loss: 0.3362 - accuracy: 0.9457 - val_loss: 0.2958 - val_accuracy: 0.9614\n",
            "Epoch 2/50\n",
            "4824/4824 [==============================] - 12s 3ms/step - loss: 0.2862 - accuracy: 0.9661 - val_loss: 0.2853 - val_accuracy: 0.9667\n",
            "Epoch 3/50\n",
            "4824/4824 [==============================] - 12s 3ms/step - loss: 0.2857 - accuracy: 0.9661 - val_loss: 0.2848 - val_accuracy: 0.9670\n",
            "Epoch 4/50\n",
            "4824/4824 [==============================] - 12s 2ms/step - loss: 0.2854 - accuracy: 0.9660 - val_loss: 0.2861 - val_accuracy: 0.9670\n",
            "Epoch 5/50\n",
            "4824/4824 [==============================] - 12s 3ms/step - loss: 0.2852 - accuracy: 0.9667 - val_loss: 0.2869 - val_accuracy: 0.9561\n",
            "Epoch 6/50\n",
            "4824/4824 [==============================] - 15s 3ms/step - loss: 0.2848 - accuracy: 0.9670 - val_loss: 0.2840 - val_accuracy: 0.9632\n",
            "Epoch 7/50\n",
            "4824/4824 [==============================] - 13s 3ms/step - loss: 0.2846 - accuracy: 0.9674 - val_loss: 0.2835 - val_accuracy: 0.9655\n",
            "Epoch 8/50\n",
            "4824/4824 [==============================] - 12s 3ms/step - loss: 0.2845 - accuracy: 0.9671 - val_loss: 0.2854 - val_accuracy: 0.9607\n",
            "Epoch 9/50\n",
            "4824/4824 [==============================] - 12s 3ms/step - loss: 0.2843 - accuracy: 0.9672 - val_loss: 0.2846 - val_accuracy: 0.9688\n",
            "Epoch 10/50\n",
            "4824/4824 [==============================] - 12s 3ms/step - loss: 0.2841 - accuracy: 0.9676 - val_loss: 0.2851 - val_accuracy: 0.9616\n",
            "Epoch 11/50\n",
            "4824/4824 [==============================] - 15s 3ms/step - loss: 0.2840 - accuracy: 0.9675 - val_loss: 0.2840 - val_accuracy: 0.9689\n",
            "Epoch 12/50\n",
            "4824/4824 [==============================] - 12s 3ms/step - loss: 0.2841 - accuracy: 0.9674 - val_loss: 0.2842 - val_accuracy: 0.9684\n",
            "Epoch 13/50\n",
            "4824/4824 [==============================] - 12s 3ms/step - loss: 0.2840 - accuracy: 0.9674 - val_loss: 0.2840 - val_accuracy: 0.9637\n",
            "Epoch 14/50\n",
            "4824/4824 [==============================] - 15s 3ms/step - loss: 0.2841 - accuracy: 0.9675 - val_loss: 0.2855 - val_accuracy: 0.9631\n",
            "Epoch 15/50\n",
            "4824/4824 [==============================] - 12s 3ms/step - loss: 0.2840 - accuracy: 0.9672 - val_loss: 0.2835 - val_accuracy: 0.9677\n",
            "Epoch 16/50\n",
            "4824/4824 [==============================] - 12s 2ms/step - loss: 0.2840 - accuracy: 0.9673 - val_loss: 0.2836 - val_accuracy: 0.9658\n",
            "Epoch 17/50\n",
            "4824/4824 [==============================] - 14s 3ms/step - loss: 0.2839 - accuracy: 0.9673 - val_loss: 0.2845 - val_accuracy: 0.9615\n",
            "Epoch 18/50\n",
            "4824/4824 [==============================] - 12s 3ms/step - loss: 0.2840 - accuracy: 0.9676 - val_loss: 0.2842 - val_accuracy: 0.9678\n",
            "Epoch 19/50\n",
            "4824/4824 [==============================] - 12s 3ms/step - loss: 0.2839 - accuracy: 0.9676 - val_loss: 0.2840 - val_accuracy: 0.9651\n",
            "Epoch 20/50\n",
            "4824/4824 [==============================] - 12s 3ms/step - loss: 0.2842 - accuracy: 0.9675 - val_loss: 0.2856 - val_accuracy: 0.9629\n",
            "Epoch 21/50\n",
            "4824/4824 [==============================] - 14s 3ms/step - loss: 0.2840 - accuracy: 0.9672 - val_loss: 0.2845 - val_accuracy: 0.9635\n",
            "Epoch 22/50\n",
            "4824/4824 [==============================] - 12s 3ms/step - loss: 0.2840 - accuracy: 0.9673 - val_loss: 0.2846 - val_accuracy: 0.9657\n",
            "Epoch 23/50\n",
            "4824/4824 [==============================] - 12s 3ms/step - loss: 0.2839 - accuracy: 0.9676 - val_loss: 0.2835 - val_accuracy: 0.9672\n",
            "Epoch 24/50\n",
            "4824/4824 [==============================] - 14s 3ms/step - loss: 0.2839 - accuracy: 0.9672 - val_loss: 0.2848 - val_accuracy: 0.9637\n",
            "Epoch 25/50\n",
            "4824/4824 [==============================] - 12s 3ms/step - loss: 0.2841 - accuracy: 0.9674 - val_loss: 0.2838 - val_accuracy: 0.9642\n",
            "Epoch 26/50\n",
            "4824/4824 [==============================] - 12s 3ms/step - loss: 0.2840 - accuracy: 0.9677 - val_loss: 0.2852 - val_accuracy: 0.9667\n",
            "Epoch 27/50\n",
            "4824/4824 [==============================] - 14s 3ms/step - loss: 0.2841 - accuracy: 0.9673 - val_loss: 0.2845 - val_accuracy: 0.9645\n",
            "Epoch 27: early stopping\n"
          ]
        }
      ]
    },
    {
      "cell_type": "code",
      "source": [
        "print(\"training loss and training accuracy: \",model1.evaluate(X_train,Y_train))\n",
        "print(\"Testing loss and Testing accuracy: \",model1.evaluate(X_test,Y_test))\n",
        "     "
      ],
      "metadata": {
        "colab": {
          "base_uri": "https://localhost:8080/",
          "height": 0
        },
        "id": "WdeOXPwSnov3",
        "outputId": "06ca63ae-6a9b-4c05-8034-69ee841e89b9"
      },
      "execution_count": 47,
      "outputs": [
        {
          "output_type": "stream",
          "name": "stdout",
          "text": [
            "4824/4824 [==============================] - 7s 1ms/step - loss: 0.2834 - accuracy: 0.9660\n",
            "training loss and training accuracy:  [0.28338372707366943, 0.9659937620162964]\n",
            "2072/2072 [==============================] - 3s 1ms/step - loss: 0.2845 - accuracy: 0.9645\n",
            "Testing loss and Testing accuracy:  [0.2844758629798889, 0.9645282030105591]\n"
          ]
        }
      ]
    },
    {
      "cell_type": "code",
      "source": [
        "#now visualize the training and testing loss\n",
        "plt.plot(trained_model1.history[\"loss\"],label=\"Training loss\")\n",
        "plt.plot(trained_model1.history[\"val_loss\"],label=\"Testing loss\")\n",
        "plt.legend()\n",
        "plt.show()\n",
        "     "
      ],
      "metadata": {
        "colab": {
          "base_uri": "https://localhost:8080/",
          "height": 430
        },
        "id": "VcpM2QP5nzrV",
        "outputId": "7c080999-1e45-4e38-838d-3bd5cb1123da"
      },
      "execution_count": 48,
      "outputs": [
        {
          "output_type": "display_data",
          "data": {
            "text/plain": [
              "<Figure size 640x480 with 1 Axes>"
            ],
            "image/png": "[encoded data removed]"
          },
          "metadata": {}
        }
      ]
    },
    {
      "cell_type": "code",
      "source": [
        "\n",
        "#now visualize the training and testing loss\n",
        "plt.plot(trained_model1.history[\"accuracy\"],label=\"Training Accuracy\")\n",
        "plt.plot(trained_model1.history[\"val_accuracy\"],label=\"Testing Accuracy\")\n",
        "plt.legend()\n",
        "plt.show()\n",
        "     "
      ],
      "metadata": {
        "colab": {
          "base_uri": "https://localhost:8080/",
          "height": 434
        },
        "id": "aSwJKaA8n3TL",
        "outputId": "6eb3b1fd-0f78-4b65-b2b7-219be258ccaa"
      },
      "execution_count": 49,
      "outputs": [
        {
          "output_type": "display_data",
          "data": {
            "text/plain": [
              "<Figure size 640x480 with 1 Axes>"
            ],
            "image/png": "[encoded data removed]"
          },
          "metadata": {}
        }
      ]
    },
    {
      "cell_type": "code",
      "source": [
        "\n",
        "print(classification_report(Y_test,Y_pred))\n",
        "print(confusion_matrix(Y_test,Y_pred))\n",
        "     "
      ],
      "metadata": {
        "colab": {
          "base_uri": "https://localhost:8080/",
          "height": 0
        },
        "id": "vCjIZAcUn6x4",
        "outputId": "59696883-bbed-44ff-a1ec-04eb920e82df"
      },
      "execution_count": 50,
      "outputs": [
        {
          "output_type": "stream",
          "name": "stdout",
          "text": [
            "              precision    recall  f1-score   support\n",
            "\n",
            "           0       1.00      1.00      1.00     33139\n",
            "           1       1.00      1.00      1.00     33139\n",
            "\n",
            "    accuracy                           1.00     66278\n",
            "   macro avg       1.00      1.00      1.00     66278\n",
            "weighted avg       1.00      1.00      1.00     66278\n",
            "\n",
            "[[33139     0]\n",
            " [    6 33133]]\n"
          ]
        }
      ]
    },
    {
      "cell_type": "markdown",
      "source": [
        "# "
      ],
      "metadata": {
        "id": "w90mcn4ItaYo"
      }
    },
    {
      "cell_type": "markdown",
      "source": [
        "# Accuracy of this model is 1.00 which is very good"
      ],
      "metadata": {
        "id": "9u-Fl4zdtlfD"
      }
    }
  ]
}